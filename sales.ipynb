{
 "cells": [
  {
   "cell_type": "code",
   "execution_count": 17,
   "id": "6c07ecbe-03b9-49da-91d5-bbfd4f49ef2c",
   "metadata": {},
   "outputs": [
    {
     "data": {
      "text/html": [
       "<div>\n",
       "<style scoped>\n",
       "    .dataframe tbody tr th:only-of-type {\n",
       "        vertical-align: middle;\n",
       "    }\n",
       "\n",
       "    .dataframe tbody tr th {\n",
       "        vertical-align: top;\n",
       "    }\n",
       "\n",
       "    .dataframe thead th {\n",
       "        text-align: right;\n",
       "    }\n",
       "</style>\n",
       "<table border=\"1\" class=\"dataframe\">\n",
       "  <thead>\n",
       "    <tr style=\"text-align: right;\">\n",
       "      <th></th>\n",
       "      <th>Order ID</th>\n",
       "      <th>Product Name</th>\n",
       "      <th>Category</th>\n",
       "      <th>Price</th>\n",
       "      <th>Quantity</th>\n",
       "      <th>Total Amount</th>\n",
       "      <th>Timestamp</th>\n",
       "      <th>Payment Method</th>\n",
       "      <th>Customer ID</th>\n",
       "      <th>Region</th>\n",
       "    </tr>\n",
       "  </thead>\n",
       "  <tbody>\n",
       "    <tr>\n",
       "      <th>0</th>\n",
       "      <td>1</td>\n",
       "      <td>Smartwatch</td>\n",
       "      <td>Accessories</td>\n",
       "      <td>499</td>\n",
       "      <td>1</td>\n",
       "      <td>499</td>\n",
       "      <td>2025-03-12 02:52:07</td>\n",
       "      <td>PayPal</td>\n",
       "      <td>C3549</td>\n",
       "      <td>North</td>\n",
       "    </tr>\n",
       "    <tr>\n",
       "      <th>1</th>\n",
       "      <td>2</td>\n",
       "      <td>Kettle</td>\n",
       "      <td>Apparel</td>\n",
       "      <td>301</td>\n",
       "      <td>5</td>\n",
       "      <td>1505</td>\n",
       "      <td>2025-03-21 07:35:07</td>\n",
       "      <td>Credit Card</td>\n",
       "      <td>C6560</td>\n",
       "      <td>West</td>\n",
       "    </tr>\n",
       "    <tr>\n",
       "      <th>2</th>\n",
       "      <td>3</td>\n",
       "      <td>T-shirt</td>\n",
       "      <td>Footwear</td>\n",
       "      <td>391</td>\n",
       "      <td>5</td>\n",
       "      <td>1955</td>\n",
       "      <td>2025-03-09 00:17:07</td>\n",
       "      <td>PayPal</td>\n",
       "      <td>C5616</td>\n",
       "      <td>West</td>\n",
       "    </tr>\n",
       "    <tr>\n",
       "      <th>3</th>\n",
       "      <td>4</td>\n",
       "      <td>Curtains</td>\n",
       "      <td>Sports</td>\n",
       "      <td>343</td>\n",
       "      <td>2</td>\n",
       "      <td>686</td>\n",
       "      <td>2025-03-20 11:08:07</td>\n",
       "      <td>Bank Transfer</td>\n",
       "      <td>C9667</td>\n",
       "      <td>South</td>\n",
       "    </tr>\n",
       "    <tr>\n",
       "      <th>4</th>\n",
       "      <td>5</td>\n",
       "      <td>Jacket</td>\n",
       "      <td>Electronics</td>\n",
       "      <td>88</td>\n",
       "      <td>3</td>\n",
       "      <td>264</td>\n",
       "      <td>2025-03-24 17:27:07</td>\n",
       "      <td>Bank Transfer</td>\n",
       "      <td>C4503</td>\n",
       "      <td>West</td>\n",
       "    </tr>\n",
       "  </tbody>\n",
       "</table>\n",
       "</div>"
      ],
      "text/plain": [
       "   Order ID Product Name     Category  Price  Quantity  Total Amount  \\\n",
       "0         1   Smartwatch  Accessories    499         1           499   \n",
       "1         2       Kettle      Apparel    301         5          1505   \n",
       "2         3      T-shirt     Footwear    391         5          1955   \n",
       "3         4     Curtains       Sports    343         2           686   \n",
       "4         5       Jacket  Electronics     88         3           264   \n",
       "\n",
       "            Timestamp Payment Method Customer ID Region  \n",
       "0 2025-03-12 02:52:07         PayPal       C3549  North  \n",
       "1 2025-03-21 07:35:07    Credit Card       C6560   West  \n",
       "2 2025-03-09 00:17:07         PayPal       C5616   West  \n",
       "3 2025-03-20 11:08:07  Bank Transfer       C9667  South  \n",
       "4 2025-03-24 17:27:07  Bank Transfer       C4503   West  "
      ]
     },
     "execution_count": 17,
     "metadata": {},
     "output_type": "execute_result"
    }
   ],
   "source": [
    "import pandas as pd\n",
    "import matplotlib.pylab as plt\n",
    "import seaborn as sns\n",
    "\n",
    "#load data\n",
    "df=pd.read_csv('sales_data.csv')\n",
    "df['Timestamp']=pd.to_datetime(df['Timestamp'])\n",
    "df.head()"
   ]
  },
  {
   "cell_type": "code",
   "execution_count": 11,
   "id": "1c95a7c0-92c6-40b1-bf89-f472717dc17f",
   "metadata": {},
   "outputs": [
    {
     "data": {
      "text/plain": [
       "Order ID          0\n",
       "Product Name      0\n",
       "Category          0\n",
       "Price             0\n",
       "Quantity          0\n",
       "Total Amount      0\n",
       "Timestamp         0\n",
       "Payment Method    0\n",
       "Customer ID       0\n",
       "Region            0\n",
       "dtype: int64"
      ]
     },
     "execution_count": 11,
     "metadata": {},
     "output_type": "execute_result"
    }
   ],
   "source": [
    "#cleaning data\n",
    "df.isnull().sum()"
   ]
  },
  {
   "cell_type": "code",
   "execution_count": 10,
   "id": "25027506-ac7b-4c25-90fc-93aeffebece4",
   "metadata": {},
   "outputs": [
    {
     "data": {
      "text/plain": [
       "Order ID                   int64\n",
       "Product Name              object\n",
       "Category                  object\n",
       "Price                      int64\n",
       "Quantity                   int64\n",
       "Total Amount               int64\n",
       "Timestamp         datetime64[ns]\n",
       "Payment Method            object\n",
       "Customer ID               object\n",
       "Region                    object\n",
       "dtype: object"
      ]
     },
     "execution_count": 10,
     "metadata": {},
     "output_type": "execute_result"
    }
   ],
   "source": [
    "#find data types\n",
    "df.dtypes"
   ]
  },
  {
   "cell_type": "code",
   "execution_count": 14,
   "id": "d40db59b-e480-4fc5-9349-6fdda4fcc202",
   "metadata": {},
   "outputs": [
    {
     "name": "stdout",
     "output_type": "stream",
     "text": [
      "Total Sales: 378267\n",
      "Total Order: 500\n"
     ]
    }
   ],
   "source": [
    "#total sales\n",
    "total_sales=df['Total Amount'].sum()\n",
    "print(f'Total Sales: {total_sales}')\n",
    "#order count\n",
    "total_order=len(df)\n",
    "print(f'Total Order: {total_order}')"
   ]
  },
  {
   "cell_type": "code",
   "execution_count": 24,
   "id": "5e80b3be-f790-4073-9de8-62894f4aca44",
   "metadata": {
    "scrolled": true
   },
   "outputs": [
    {
     "name": "stdout",
     "output_type": "stream",
     "text": [
      "      Category  Total Amount\n",
      "0  Accessories         60092\n",
      "1      Apparel         64744\n",
      "2  Electronics         60510\n",
      "3     Footwear         52697\n",
      "4      Kitchen         76556\n",
      "5       Sports         63668\n"
     ]
    }
   ],
   "source": [
    "#sales by category\n",
    "category_sales=df.groupby('Category')['Total Amount'].sum().reset_index()\n",
    "print(category_sales)"
   ]
  },
  {
   "cell_type": "code",
   "execution_count": 29,
   "id": "ecdb9c8b-b2cf-43df-825a-e60d2123c5fe",
   "metadata": {},
   "outputs": [
    {
     "name": "stderr",
     "output_type": "stream",
     "text": [
      "C:\\Users\\Administrator\\AppData\\Local\\Temp\\ipykernel_8992\\3235278027.py:2: FutureWarning: \n",
      "\n",
      "Passing `palette` without assigning `hue` is deprecated and will be removed in v0.14.0. Assign the `x` variable to `hue` and set `legend=False` for the same effect.\n",
      "\n",
      "  sns.barplot(x='Category', y='Total Amount', data=category_sales, palette=\"viridis\")\n"
     ]
    },
    {
     "data": {
      "image/png": "[encoded data removed]",
      "text/plain": [
       "<Figure size 1000x600 with 1 Axes>"
      ]
     },
     "metadata": {},
     "output_type": "display_data"
    }
   ],
   "source": [
    "plt.figure(figsize=(10, 6))\n",
    "sns.barplot(x='Category', y='Total Amount', data=category_sales, palette=\"viridis\")\n",
    "plt.title('Total Sales by Category')\n",
    "plt.xlabel('Categories of Products')\n",
    "plt.ylabel('Total Sales Amount')\n",
    "plt.show()"
   ]
  },
  {
   "cell_type": "code",
   "execution_count": 35,
   "id": "7349af8e-9adf-4855-a8e0-2ae4c1f0bfb9",
   "metadata": {},
   "outputs": [
    {
     "data": {
      "text/html": [
       "<div>\n",
       "<style scoped>\n",
       "    .dataframe tbody tr th:only-of-type {\n",
       "        vertical-align: middle;\n",
       "    }\n",
       "\n",
       "    .dataframe tbody tr th {\n",
       "        vertical-align: top;\n",
       "    }\n",
       "\n",
       "    .dataframe thead th {\n",
       "        text-align: right;\n",
       "    }\n",
       "</style>\n",
       "<table border=\"1\" class=\"dataframe\">\n",
       "  <thead>\n",
       "    <tr style=\"text-align: right;\">\n",
       "      <th></th>\n",
       "      <th>Product Name</th>\n",
       "      <th>Total Amount</th>\n",
       "    </tr>\n",
       "  </thead>\n",
       "  <tbody>\n",
       "    <tr>\n",
       "      <th>0</th>\n",
       "      <td>Boots</td>\n",
       "      <td>17540</td>\n",
       "    </tr>\n",
       "    <tr>\n",
       "      <th>1</th>\n",
       "      <td>Wireless Charger</td>\n",
       "      <td>13975</td>\n",
       "    </tr>\n",
       "    <tr>\n",
       "      <th>2</th>\n",
       "      <td>Sandals</td>\n",
       "      <td>12218</td>\n",
       "    </tr>\n",
       "    <tr>\n",
       "      <th>3</th>\n",
       "      <td>Fridge</td>\n",
       "      <td>11929</td>\n",
       "    </tr>\n",
       "    <tr>\n",
       "      <th>4</th>\n",
       "      <td>Tablet</td>\n",
       "      <td>11820</td>\n",
       "    </tr>\n",
       "  </tbody>\n",
       "</table>\n",
       "</div>"
      ],
      "text/plain": [
       "       Product Name  Total Amount\n",
       "0             Boots         17540\n",
       "1  Wireless Charger         13975\n",
       "2           Sandals         12218\n",
       "3            Fridge         11929\n",
       "4            Tablet         11820"
      ]
     },
     "execution_count": 35,
     "metadata": {},
     "output_type": "execute_result"
    }
   ],
   "source": [
    "#top sales products\n",
    "top_products=df.groupby('Product Name')['Total Amount'].sum().reset_index()\n",
    "top_products_sorted=top_products.sort_values('Total Amount', ascending=False).head().reset_index(drop=True)\n",
    "top_products_sorted"
   ]
  },
  {
   "cell_type": "code",
   "execution_count": 39,
   "id": "c570fee6-6ceb-4748-9d96-c5bbb3e7102c",
   "metadata": {},
   "outputs": [
    {
     "name": "stderr",
     "output_type": "stream",
     "text": [
      "C:\\Users\\Administrator\\AppData\\Local\\Temp\\ipykernel_8992\\3419301619.py:2: FutureWarning: \n",
      "\n",
      "Passing `palette` without assigning `hue` is deprecated and will be removed in v0.14.0. Assign the `y` variable to `hue` and set `legend=False` for the same effect.\n",
      "\n",
      "  sns.barplot(x='Total Amount', y='Product Name', data=top_products_sorted, palette=\"Greens\")\n"
     ]
    },
    {
     "data": {
      "image/png": "[encoded data removed]",
      "text/plain": [
       "<Figure size 1000x600 with 1 Axes>"
      ]
     },
     "metadata": {},
     "output_type": "display_data"
    }
   ],
   "source": [
    "plt.figure(figsize=(10, 6))\n",
    "sns.barplot(x='Total Amount', y='Product Name', data=top_products_sorted, palette=\"Greens\")\n",
    "plt.title('Top Selling Products')\n",
    "plt.xlabel('Total Sales Amount')\n",
    "plt.ylabel('Products Name')\n",
    "plt.show()"
   ]
  },
  {
   "cell_type": "code",
   "execution_count": 41,
   "id": "2e6fd2b3-ace1-46ce-af3e-a4f789a20c70",
   "metadata": {},
   "outputs": [
    {
     "data": {
      "text/html": [
       "<div>\n",
       "<style scoped>\n",
       "    .dataframe tbody tr th:only-of-type {\n",
       "        vertical-align: middle;\n",
       "    }\n",
       "\n",
       "    .dataframe tbody tr th {\n",
       "        vertical-align: top;\n",
       "    }\n",
       "\n",
       "    .dataframe thead th {\n",
       "        text-align: right;\n",
       "    }\n",
       "</style>\n",
       "<table border=\"1\" class=\"dataframe\">\n",
       "  <thead>\n",
       "    <tr style=\"text-align: right;\">\n",
       "      <th></th>\n",
       "      <th>Customer ID</th>\n",
       "      <th>Total Amount</th>\n",
       "    </tr>\n",
       "  </thead>\n",
       "  <tbody>\n",
       "    <tr>\n",
       "      <th>102</th>\n",
       "      <td>C3059</td>\n",
       "      <td>3266</td>\n",
       "    </tr>\n",
       "    <tr>\n",
       "      <th>389</th>\n",
       "      <td>C8055</td>\n",
       "      <td>3075</td>\n",
       "    </tr>\n",
       "    <tr>\n",
       "      <th>297</th>\n",
       "      <td>C6657</td>\n",
       "      <td>2480</td>\n",
       "    </tr>\n",
       "    <tr>\n",
       "      <th>236</th>\n",
       "      <td>C5549</td>\n",
       "      <td>2475</td>\n",
       "    </tr>\n",
       "    <tr>\n",
       "      <th>380</th>\n",
       "      <td>C7846</td>\n",
       "      <td>2455</td>\n",
       "    </tr>\n",
       "  </tbody>\n",
       "</table>\n",
       "</div>"
      ],
      "text/plain": [
       "    Customer ID  Total Amount\n",
       "102       C3059          3266\n",
       "389       C8055          3075\n",
       "297       C6657          2480\n",
       "236       C5549          2475\n",
       "380       C7846          2455"
      ]
     },
     "execution_count": 41,
     "metadata": {},
     "output_type": "execute_result"
    }
   ],
   "source": [
    "top_customers = df.groupby('Customer ID')['Total Amount'].sum().reset_index()\n",
    "top_customers_sorted = top_customers.sort_values('Total Amount', ascending=False).head(5)\n",
    "top_customers_sorted"
   ]
  },
  {
   "cell_type": "code",
   "execution_count": 47,
   "id": "700f4db2-cbf4-4d0e-831d-bd98d9c5287e",
   "metadata": {},
   "outputs": [
    {
     "name": "stderr",
     "output_type": "stream",
     "text": [
      "C:\\Users\\Administrator\\AppData\\Local\\Temp\\ipykernel_8992\\3066815942.py:3: FutureWarning: \n",
      "\n",
      "Passing `palette` without assigning `hue` is deprecated and will be removed in v0.14.0. Assign the `y` variable to `hue` and set `legend=False` for the same effect.\n",
      "\n",
      "  sns.barplot(x='Total Amount', y='Region', data=regional_sales, palette=\"magma\")\n"
     ]
    },
    {
     "data": {
      "image/png": "[encoded data removed]",
      "text/plain": [
       "<Figure size 1000x600 with 1 Axes>"
      ]
     },
     "metadata": {},
     "output_type": "display_data"
    }
   ],
   "source": [
    "regional_sales = df.groupby('Region')['Total Amount'].sum().reset_index()\n",
    "plt.figure(figsize=(10, 6))\n",
    "sns.barplot(x='Total Amount', y='Region', data=regional_sales, palette=\"magma\")\n",
    "plt.title('Total Sales by Region')\n",
    "plt.xlabel('Total Sales Amount')\n",
    "plt.ylabel('Region')\n",
    "plt.show()"
   ]
  },
  {
   "cell_type": "code",
   "execution_count": 42,
   "id": "63b066aa-5515-4ec1-9a0a-0037a9846547",
   "metadata": {},
   "outputs": [
    {
     "name": "stderr",
     "output_type": "stream",
     "text": [
      "C:\\Users\\Administrator\\AppData\\Local\\Temp\\ipykernel_8992\\3717849139.py:2: FutureWarning: \n",
      "\n",
      "Passing `palette` without assigning `hue` is deprecated and will be removed in v0.14.0. Assign the `y` variable to `hue` and set `legend=False` for the same effect.\n",
      "\n",
      "  sns.barplot(x='Total Amount', y='Customer ID', data=top_customers_sorted, palette=\"plasma\")\n"
     ]
    },
    {
     "data": {
      "image/png": "[encoded data removed]",
      "text/plain": [
       "<Figure size 1000x600 with 1 Axes>"
      ]
     },
     "metadata": {},
     "output_type": "display_data"
    }
   ],
   "source": [
    "plt.figure(figsize=(10, 6))\n",
    "sns.barplot(x='Total Amount', y='Customer ID', data=top_customers_sorted, palette=\"plasma\")\n",
    "plt.title('Top 5 Customers by Total Spend')\n",
    "plt.xlabel('Total Spend')\n",
    "plt.ylabel('Customer ID')\n",
    "plt.show()"
   ]
  },
  {
   "cell_type": "code",
   "execution_count": 53,
   "id": "91cdf6c5-75f0-4dde-bb2a-4ab6119e2171",
   "metadata": {},
   "outputs": [
    {
     "name": "stdout",
     "output_type": "stream",
     "text": [
      "\n",
      "Key Insights:\n",
      "\n",
      "Top 3 High-Performing Product Categories by Sales:\n",
      "      Category  Total Amount\n",
      "0  Accessories         60092\n",
      "1      Apparel         64744\n",
      "2  Electronics         60510\n",
      "3     Footwear         52697\n",
      "4      Kitchen         76556\n",
      "5       Sports         63668\n",
      "\n",
      "Top 5 Customers by Total Spend:\n",
      "    Customer ID  Total Amount\n",
      "102       C3059          3266\n",
      "389       C8055          3075\n",
      "297       C6657          2480\n",
      "236       C5549          2475\n",
      "380       C7846          2455\n",
      "\n",
      "Total Sales by Region:\n",
      "  Region  Total Amount\n",
      "0   East         91612\n",
      "1  North        104738\n",
      "2  South         89659\n",
      "3   West         92258\n",
      "\n",
      "Total Sales: 378267\n",
      "Total Sales by Region: 378267\n",
      "\n",
      "Sales Percentage of Top Categories:\n",
      "      Category  Sales Percentage\n",
      "0  Accessories         15.886133\n",
      "1      Apparel         17.115952\n",
      "2  Electronics         15.996637\n",
      "3     Footwear         13.931165\n",
      "4      Kitchen         20.238615\n",
      "5       Sports         16.831497\n"
     ]
    }
   ],
   "source": [
    "print(\"\\nKey Insights:\")\n",
    "\n",
    "# 1. Top 3 high-performing product categories\n",
    "print(\"\\nTop 3 High-Performing Product Categories by Sales:\")\n",
    "print(category_sales[['Category', 'Total Amount']])\n",
    "\n",
    "# 2. Top 5 customers by total spend\n",
    "print(\"\\nTop 5 Customers by Total Spend:\")\n",
    "print(top_customers_sorted[['Customer ID', 'Total Amount']])\n",
    "\n",
    "# 3. Regional Sales Insights\n",
    "print(\"\\nTotal Sales by Region:\")\n",
    "print(regional_sales)\n",
    "\n",
    "# Optional: Calculate some more metrics like sales growth or percentages if needed\n",
    "total_sales = df['Total Amount'].sum()\n",
    "total_sales_by_region = regional_sales['Total Amount'].sum()\n",
    "\n",
    "print(f\"\\nTotal Sales: {total_sales}\")\n",
    "print(f\"Total Sales by Region: {total_sales_by_region}\")\n",
    "\n",
    "# Optional: You can also calculate percentage contribution of top categories to the overall sales\n",
    "category_sales['Sales Percentage'] = (category_sales['Total Amount'] / total_sales) * 100\n",
    "print(\"\\nSales Percentage of Top Categories:\")\n",
    "print(category_sales[['Category', 'Sales Percentage']])"
   ]
  }
 ],
 "metadata": {
  "kernelspec": {
   "display_name": "Python 3 (ipykernel)",
   "language": "python",
   "name": "python3"
  },
  "language_info": {
   "codemirror_mode": {
    "name": "ipython",
    "version": 3
   },
   "file_extension": ".py",
   "mimetype": "text/x-python",
   "name": "python",
   "nbconvert_exporter": "python",
   "pygments_lexer": "ipython3",
   "version": "3.13.1"
  }
 },
 "nbformat": 4,
 "nbformat_minor": 5
}
